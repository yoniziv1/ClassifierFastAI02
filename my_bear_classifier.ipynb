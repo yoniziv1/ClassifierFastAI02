{
  "nbformat": 4,
  "nbformat_minor": 0,
  "metadata": {
    "jupytext": {
      "split_at_heading": true
    },
    "kernelspec": {
      "display_name": "Python 3",
      "language": "python",
      "name": "python3"
    },
    "language_info": {
      "codemirror_mode": {
        "name": "ipython",
        "version": 3
      },
      "file_extension": ".py",
      "mimetype": "text/x-python",
      "name": "python",
      "nbconvert_exporter": "python",
      "pygments_lexer": "ipython3",
      "version": "3.7.7"
    },
    "toc": {
      "base_numbering": 1,
      "nav_menu": {},
      "number_sections": false,
      "sideBar": true,
      "skip_h1_title": true,
      "title_cell": "Table of Contents",
      "title_sidebar": "Contents",
      "toc_cell": false,
      "toc_position": {},
      "toc_section_display": true,
      "toc_window_display": false
    },
    "colab": {
      "name": "my_bear_classifier.ipynb",
      "provenance": [],
      "collapsed_sections": [],
      "toc_visible": true,
      "include_colab_link": true
    },
    "widgets": {
      "application/vnd.jupyter.widget-state+json": {
        "0400079e432e46a5896f42ee3b40114d": {
          "model_module": "@jupyter-widgets/controls",
          "model_name": "VBoxModel",
          "state": {
            "_view_name": "VBoxView",
            "_dom_classes": [],
            "_model_name": "VBoxModel",
            "_view_module": "@jupyter-widgets/controls",
            "_model_module_version": "1.5.0",
            "_view_count": null,
            "_view_module_version": "1.5.0",
            "box_style": "",
            "layout": "IPY_MODEL_4a260448867c4905953adb1e43d5e033",
            "_model_module": "@jupyter-widgets/controls",
            "children": [
              "IPY_MODEL_74cda775e74d41609e667fea273247e7",
              "IPY_MODEL_d7ae0feeb762487fa4e188031997824f",
              "IPY_MODEL_682b1187026e4932b99bd3c92b0e5731",
              "IPY_MODEL_1869d2c9889c42a4ab757b41126850b2"
            ]
          }
        },
        "4a260448867c4905953adb1e43d5e033": {
          "model_module": "@jupyter-widgets/base",
          "model_name": "LayoutModel",
          "state": {
            "_view_name": "LayoutView",
            "grid_template_rows": null,
            "right": null,
            "justify_content": null,
            "_view_module": "@jupyter-widgets/base",
            "overflow": null,
            "_model_module_version": "1.2.0",
            "_view_count": null,
            "flex_flow": null,
            "width": null,
            "min_width": null,
            "border": null,
            "align_items": null,
            "bottom": null,
            "_model_module": "@jupyter-widgets/base",
            "top": null,
            "grid_column": null,
            "overflow_y": null,
            "overflow_x": null,
            "grid_auto_flow": null,
            "grid_area": null,
            "grid_template_columns": null,
            "flex": null,
            "_model_name": "LayoutModel",
            "justify_items": null,
            "grid_row": null,
            "max_height": null,
            "align_content": null,
            "visibility": null,
            "align_self": null,
            "height": null,
            "min_height": null,
            "padding": null,
            "grid_auto_rows": null,
            "grid_gap": null,
            "max_width": null,
            "order": null,
            "_view_module_version": "1.2.0",
            "grid_template_areas": null,
            "object_position": null,
            "object_fit": null,
            "grid_auto_columns": null,
            "margin": null,
            "display": null,
            "left": null
          }
        },
        "74cda775e74d41609e667fea273247e7": {
          "model_module": "@jupyter-widgets/controls",
          "model_name": "LabelModel",
          "state": {
            "_view_name": "LabelView",
            "style": "IPY_MODEL_4f026fad599045b1974a33ed07cc1f35",
            "_dom_classes": [],
            "description": "",
            "_model_name": "LabelModel",
            "placeholder": "​",
            "_view_module": "@jupyter-widgets/controls",
            "_model_module_version": "1.5.0",
            "value": "Select your bear!",
            "_view_count": null,
            "_view_module_version": "1.5.0",
            "description_tooltip": null,
            "_model_module": "@jupyter-widgets/controls",
            "layout": "IPY_MODEL_8211b41f6e1245ad9cda174612055a69"
          }
        },
        "d7ae0feeb762487fa4e188031997824f": {
          "model_module": "@jupyter-widgets/controls",
          "model_name": "FileUploadModel",
          "state": {
            "_view_name": "FileUploadView",
            "_counter": 1,
            "style": "IPY_MODEL_72305e1e8c694a3f98ac1dd5133f4252",
            "_dom_classes": [],
            "description": "Upload",
            "multiple": false,
            "_model_name": "FileUploadModel",
            "data": [
              null
            ],
            "button_style": "",
            "_view_module": "@jupyter-widgets/controls",
            "_model_module_version": "1.5.0",
            "accept": "",
            "_view_count": null,
            "disabled": false,
            "_view_module_version": "1.5.0",
            "error": "",
            "description_tooltip": null,
            "metadata": [
              {
                "name": "IMG-4329.jpg",
                "type": "image/jpeg",
                "size": 2201692,
                "lastModified": 1597513600158
              }
            ],
            "_model_module": "@jupyter-widgets/controls",
            "layout": "IPY_MODEL_87549dcb4c124942a0e3f6da76f1fdc9",
            "icon": "upload"
          }
        },
        "682b1187026e4932b99bd3c92b0e5731": {
          "model_module": "@jupyter-widgets/output",
          "model_name": "OutputModel",
          "state": {
            "_view_name": "OutputView",
            "msg_id": "",
            "_dom_classes": [],
            "_model_name": "OutputModel",
            "outputs": [
              {
                "output_type": "display_data",
                "metadata": {
                  "tags": []
                },
                "image/png": "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\n",
                "text/plain": "<PIL.Image.Image image mode=RGB size=82x128 at 0x7FB013E2A4E0>"
              }
            ],
            "_view_module": "@jupyter-widgets/output",
            "_model_module_version": "1.0.0",
            "_view_count": null,
            "_view_module_version": "1.0.0",
            "layout": "IPY_MODEL_ef15a85404cc4f1aa91c06c284d1a07e",
            "_model_module": "@jupyter-widgets/output"
          }
        },
        "1869d2c9889c42a4ab757b41126850b2": {
          "model_module": "@jupyter-widgets/controls",
          "model_name": "LabelModel",
          "state": {
            "_view_name": "LabelView",
            "style": "IPY_MODEL_bc952f1c83a340e183e7dcbdc2fa208a",
            "_dom_classes": [],
            "description": "",
            "_model_name": "LabelModel",
            "placeholder": "​",
            "_view_module": "@jupyter-widgets/controls",
            "_model_module_version": "1.5.0",
            "value": "Prediction: policeman; Probability: 0.6477",
            "_view_count": null,
            "_view_module_version": "1.5.0",
            "description_tooltip": null,
            "_model_module": "@jupyter-widgets/controls",
            "layout": "IPY_MODEL_870b2e042d864a23b2548125c9aea1a9"
          }
        },
        "4f026fad599045b1974a33ed07cc1f35": {
          "model_module": "@jupyter-widgets/controls",
          "model_name": "DescriptionStyleModel",
          "state": {
            "_view_name": "StyleView",
            "_model_name": "DescriptionStyleModel",
            "description_width": "",
            "_view_module": "@jupyter-widgets/base",
            "_model_module_version": "1.5.0",
            "_view_count": null,
            "_view_module_version": "1.2.0",
            "_model_module": "@jupyter-widgets/controls"
          }
        },
        "8211b41f6e1245ad9cda174612055a69": {
          "model_module": "@jupyter-widgets/base",
          "model_name": "LayoutModel",
          "state": {
            "_view_name": "LayoutView",
            "grid_template_rows": null,
            "right": null,
            "justify_content": null,
            "_view_module": "@jupyter-widgets/base",
            "overflow": null,
            "_model_module_version": "1.2.0",
            "_view_count": null,
            "flex_flow": null,
            "width": null,
            "min_width": null,
            "border": null,
            "align_items": null,
            "bottom": null,
            "_model_module": "@jupyter-widgets/base",
            "top": null,
            "grid_column": null,
            "overflow_y": null,
            "overflow_x": null,
            "grid_auto_flow": null,
            "grid_area": null,
            "grid_template_columns": null,
            "flex": null,
            "_model_name": "LayoutModel",
            "justify_items": null,
            "grid_row": null,
            "max_height": null,
            "align_content": null,
            "visibility": null,
            "align_self": null,
            "height": null,
            "min_height": null,
            "padding": null,
            "grid_auto_rows": null,
            "grid_gap": null,
            "max_width": null,
            "order": null,
            "_view_module_version": "1.2.0",
            "grid_template_areas": null,
            "object_position": null,
            "object_fit": null,
            "grid_auto_columns": null,
            "margin": null,
            "display": null,
            "left": null
          }
        },
        "72305e1e8c694a3f98ac1dd5133f4252": {
          "model_module": "@jupyter-widgets/controls",
          "model_name": "ButtonStyleModel",
          "state": {
            "_view_name": "StyleView",
            "_model_name": "ButtonStyleModel",
            "_view_module": "@jupyter-widgets/base",
            "_model_module_version": "1.5.0",
            "_view_count": null,
            "button_color": null,
            "font_weight": "",
            "_view_module_version": "1.2.0",
            "_model_module": "@jupyter-widgets/controls"
          }
        },
        "87549dcb4c124942a0e3f6da76f1fdc9": {
          "model_module": "@jupyter-widgets/base",
          "model_name": "LayoutModel",
          "state": {
            "_view_name": "LayoutView",
            "grid_template_rows": null,
            "right": null,
            "justify_content": null,
            "_view_module": "@jupyter-widgets/base",
            "overflow": null,
            "_model_module_version": "1.2.0",
            "_view_count": null,
            "flex_flow": null,
            "width": null,
            "min_width": null,
            "border": null,
            "align_items": null,
            "bottom": null,
            "_model_module": "@jupyter-widgets/base",
            "top": null,
            "grid_column": null,
            "overflow_y": null,
            "overflow_x": null,
            "grid_auto_flow": null,
            "grid_area": null,
            "grid_template_columns": null,
            "flex": null,
            "_model_name": "LayoutModel",
            "justify_items": null,
            "grid_row": null,
            "max_height": null,
            "align_content": null,
            "visibility": null,
            "align_self": null,
            "height": null,
            "min_height": null,
            "padding": null,
            "grid_auto_rows": null,
            "grid_gap": null,
            "max_width": null,
            "order": null,
            "_view_module_version": "1.2.0",
            "grid_template_areas": null,
            "object_position": null,
            "object_fit": null,
            "grid_auto_columns": null,
            "margin": null,
            "display": null,
            "left": null
          }
        },
        "bc952f1c83a340e183e7dcbdc2fa208a": {
          "model_module": "@jupyter-widgets/controls",
          "model_name": "DescriptionStyleModel",
          "state": {
            "_view_name": "StyleView",
            "_model_name": "DescriptionStyleModel",
            "description_width": "",
            "_view_module": "@jupyter-widgets/base",
            "_model_module_version": "1.5.0",
            "_view_count": null,
            "_view_module_version": "1.2.0",
            "_model_module": "@jupyter-widgets/controls"
          }
        },
        "870b2e042d864a23b2548125c9aea1a9": {
          "model_module": "@jupyter-widgets/base",
          "model_name": "LayoutModel",
          "state": {
            "_view_name": "LayoutView",
            "grid_template_rows": null,
            "right": null,
            "justify_content": null,
            "_view_module": "@jupyter-widgets/base",
            "overflow": null,
            "_model_module_version": "1.2.0",
            "_view_count": null,
            "flex_flow": null,
            "width": null,
            "min_width": null,
            "border": null,
            "align_items": null,
            "bottom": null,
            "_model_module": "@jupyter-widgets/base",
            "top": null,
            "grid_column": null,
            "overflow_y": null,
            "overflow_x": null,
            "grid_auto_flow": null,
            "grid_area": null,
            "grid_template_columns": null,
            "flex": null,
            "_model_name": "LayoutModel",
            "justify_items": null,
            "grid_row": null,
            "max_height": null,
            "align_content": null,
            "visibility": null,
            "align_self": null,
            "height": null,
            "min_height": null,
            "padding": null,
            "grid_auto_rows": null,
            "grid_gap": null,
            "max_width": null,
            "order": null,
            "_view_module_version": "1.2.0",
            "grid_template_areas": null,
            "object_position": null,
            "object_fit": null,
            "grid_auto_columns": null,
            "margin": null,
            "display": null,
            "left": null
          }
        },
        "ef15a85404cc4f1aa91c06c284d1a07e": {
          "model_module": "@jupyter-widgets/base",
          "model_name": "LayoutModel",
          "state": {
            "_view_name": "LayoutView",
            "grid_template_rows": null,
            "right": null,
            "justify_content": null,
            "_view_module": "@jupyter-widgets/base",
            "overflow": null,
            "_model_module_version": "1.2.0",
            "_view_count": null,
            "flex_flow": null,
            "width": null,
            "min_width": null,
            "border": null,
            "align_items": null,
            "bottom": null,
            "_model_module": "@jupyter-widgets/base",
            "top": null,
            "grid_column": null,
            "overflow_y": null,
            "overflow_x": null,
            "grid_auto_flow": null,
            "grid_area": null,
            "grid_template_columns": null,
            "flex": null,
            "_model_name": "LayoutModel",
            "justify_items": null,
            "grid_row": null,
            "max_height": null,
            "align_content": null,
            "visibility": null,
            "align_self": null,
            "height": null,
            "min_height": null,
            "padding": null,
            "grid_auto_rows": null,
            "grid_gap": null,
            "max_width": null,
            "order": null,
            "_view_module_version": "1.2.0",
            "grid_template_areas": null,
            "object_position": null,
            "object_fit": null,
            "grid_auto_columns": null,
            "margin": null,
            "display": null,
            "left": null
          }
        }
      }
    }
  },
  "cells": [
    {
      "cell_type": "markdown",
      "metadata": {
        "id": "view-in-github",
        "colab_type": "text"
      },
      "source": [
        "<a href=\"https://colab.research.google.com/github/yoniziv1/ClassifierFastAI02/blob/master/my_bear_classifier.ipynb\" target=\"_parent\"><img src=\"https://colab.research.google.com/assets/colab-badge.svg\" alt=\"Open In Colab\"/></a>"
      ]
    },
    {
      "cell_type": "code",
      "metadata": {
        "id": "HndLG6vwSUxx"
      },
      "source": [
        "from fastai.vision.all import *\n",
        "from fastai.vision.widgets import *"
      ],
      "execution_count": 7,
      "outputs": []
    },
    {
      "cell_type": "markdown",
      "metadata": {
        "id": "r4VcEoOVSUx7"
      },
      "source": [
        "# The Amazing Bear Classifier!"
      ]
    },
    {
      "cell_type": "markdown",
      "metadata": {
        "id": "kPYKrh5NSUx8"
      },
      "source": [
        "You need to know whether you're being chased by a dangerous grizzly, or a sweet teddy bear, and you need an answer *fast*? Then you've come to the right place. Take a pic of the potentially vicious killer, and click 'upload' to classify it. (Important: this only handles grizzly bears, black bears, and teddy bears. It will **not** give a sensible answer for polar bears, a bear market, a bear of a man, or hot dogs.\n",
        "\n",
        "----"
      ]
    },
    {
      "cell_type": "code",
      "metadata": {
        "id": "9okkoDBPUF11",
        "outputId": "d81a2ae5-d7a5-44d8-d1dd-ca8cf03d1cfc",
        "colab": {
          "base_uri": "https://localhost:8080/",
          "height": 35
        }
      },
      "source": [
        "Path()"
      ],
      "execution_count": 8,
      "outputs": [
        {
          "output_type": "execute_result",
          "data": {
            "text/plain": [
              "Path('.')"
            ]
          },
          "metadata": {
            "tags": []
          },
          "execution_count": 8
        }
      ]
    },
    {
      "cell_type": "code",
      "metadata": {
        "id": "fRU0f1yrUNMl",
        "outputId": "5d93cd2a-15a5-4777-c72d-c090d83f3291",
        "colab": {
          "base_uri": "https://localhost:8080/",
          "height": 55
        }
      },
      "source": [
        "from google.colab import drive\n",
        "drive.mount('/content/drive')"
      ],
      "execution_count": 9,
      "outputs": [
        {
          "output_type": "stream",
          "text": [
            "Drive already mounted at /content/drive; to attempt to forcibly remount, call drive.mount(\"/content/drive\", force_remount=True).\n"
          ],
          "name": "stdout"
        }
      ]
    },
    {
      "cell_type": "code",
      "metadata": {
        "id": "HK8qIRoYSUx-"
      },
      "source": [
        "path = Path()\n",
        "learn_inf = load_learner('/content/drive/My Drive/Colab Notebooks/my_export.pkl', cpu=True)\n",
        "btn_upload = widgets.FileUpload()\n",
        "out_pl = widgets.Output()\n",
        "lbl_pred = widgets.Label()"
      ],
      "execution_count": 11,
      "outputs": []
    },
    {
      "cell_type": "code",
      "metadata": {
        "id": "YAbOlzcUSUyG"
      },
      "source": [
        "def on_data_change(change):\n",
        "    lbl_pred.value = ''\n",
        "    img = PILImage.create(btn_upload.data[-1])\n",
        "    out_pl.clear_output()\n",
        "    with out_pl: display(img.to_thumb(128,128))\n",
        "    pred,pred_idx,probs = learn_inf.predict(img)\n",
        "    lbl_pred.value = f'Prediction: {pred}; Probability: {probs[pred_idx]:.04f}'"
      ],
      "execution_count": 12,
      "outputs": []
    },
    {
      "cell_type": "code",
      "metadata": {
        "id": "mOax8d6vSUyM"
      },
      "source": [
        "btn_upload.observe(on_data_change, names=['data'])"
      ],
      "execution_count": 13,
      "outputs": []
    },
    {
      "cell_type": "code",
      "metadata": {
        "scrolled": false,
        "id": "g-369uAOSUyS",
        "outputId": "b4a44f78-aef7-4d99-b9a7-7fc2e6287957",
        "colab": {
          "base_uri": "https://localhost:8080/",
          "height": 241,
          "referenced_widgets": [
            "0400079e432e46a5896f42ee3b40114d",
            "4a260448867c4905953adb1e43d5e033",
            "74cda775e74d41609e667fea273247e7",
            "d7ae0feeb762487fa4e188031997824f",
            "682b1187026e4932b99bd3c92b0e5731",
            "1869d2c9889c42a4ab757b41126850b2",
            "4f026fad599045b1974a33ed07cc1f35",
            "8211b41f6e1245ad9cda174612055a69",
            "72305e1e8c694a3f98ac1dd5133f4252",
            "87549dcb4c124942a0e3f6da76f1fdc9",
            "bc952f1c83a340e183e7dcbdc2fa208a",
            "870b2e042d864a23b2548125c9aea1a9",
            "ef15a85404cc4f1aa91c06c284d1a07e"
          ]
        }
      },
      "source": [
        "display(VBox([widgets.Label('Select your bear!'), btn_upload, out_pl, lbl_pred]))"
      ],
      "execution_count": 14,
      "outputs": [
        {
          "output_type": "display_data",
          "data": {
            "application/vnd.jupyter.widget-view+json": {
              "model_id": "0400079e432e46a5896f42ee3b40114d",
              "version_minor": 0,
              "version_major": 2
            },
            "text/plain": [
              "VBox(children=(Label(value='Select your bear!'), FileUpload(value={}, description='Upload'), Output(), Label(v…"
            ]
          },
          "metadata": {
            "tags": []
          }
        },
        {
          "output_type": "display_data",
          "data": {
            "text/html": [
              ""
            ],
            "text/plain": [
              "<IPython.core.display.HTML object>"
            ]
          },
          "metadata": {
            "tags": []
          }
        }
      ]
    },
    {
      "cell_type": "code",
      "metadata": {
        "id": "KPVF94XdiS6n"
      },
      "source": [
        ""
      ],
      "execution_count": null,
      "outputs": []
    },
    {
      "cell_type": "code",
      "metadata": {
        "id": "H_otmFV-iQBo"
      },
      "source": [
        "# !pip install voila\n",
        "# !jupyter serverextension enable voila —sys-prefix"
      ],
      "execution_count": 23,
      "outputs": []
    },
    {
      "cell_type": "code",
      "metadata": {
        "id": "l6V9XMN8ifEz"
      },
      "source": [
        ""
      ],
      "execution_count": null,
      "outputs": []
    }
  ]
}